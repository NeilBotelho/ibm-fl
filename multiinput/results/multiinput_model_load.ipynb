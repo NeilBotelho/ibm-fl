{
 "cells": [
  {
   "cell_type": "code",
   "execution_count": 41,
   "metadata": {},
   "outputs": [],
   "source": [
    "from keras.models import load_model\n",
    "from sklearn.metrics import precision_score, recall_score, f1_score, accuracy_score,confusion_matrix\n",
    "import numpy as np"
   ]
  },
  {
   "cell_type": "code",
   "execution_count": 3,
   "metadata": {},
   "outputs": [],
   "source": [
    "model=load_model(\"savedModel.h5\")"
   ]
  },
  {
   "cell_type": "code",
   "execution_count": 4,
   "metadata": {},
   "outputs": [],
   "source": [
    "# The model was trained on data party 0,1,2. data Party 3 was kept for testing\n",
    "data_train=np.load(\"../data/4_400/data_party3.npz\")\n",
    "train_im = data_train['train_im']\n",
    "train_tab = data_train['train_tab']\n",
    "train_y = data_train['train_y']\n",
    "test_im = np.vstack((train_im,data_train['test_im']))\n",
    "test_tab = np.vstack((train_tab,data_train['test_tab']))\n",
    "test_y = np.vstack((train_y,data_train['test_y']))"
   ]
  },
  {
   "cell_type": "code",
   "execution_count": 5,
   "metadata": {},
   "outputs": [
    {
     "name": "stdout",
     "output_type": "stream",
     "text": [
      "17/17 [==============================] - 0s 29ms/step - loss: 0.4276 - accuracy: 0.8096\n"
     ]
    },
    {
     "data": {
      "text/plain": [
       "[0.427584171295166, 0.8096153736114502]"
      ]
     },
     "execution_count": 5,
     "metadata": {},
     "output_type": "execute_result"
    }
   ],
   "source": [
    "model.evaluate(x=[test_im,test_tab],y=test_y)"
   ]
  },
  {
   "cell_type": "code",
   "execution_count": 38,
   "metadata": {},
   "outputs": [],
   "source": [
    "y_preds=model.predict(x=[test_im,test_tab])\n",
    "\n",
    "\n",
    "for idx in range(len(y_preds)):\n",
    "    if y_preds[idx,0]>y_preds[idx,1]:\n",
    "        y_preds[idx]=[1,0]\n",
    "    else:\n",
    "        y_preds[idx]=[0,1]\n",
    " "
   ]
  },
  {
   "cell_type": "code",
   "execution_count": 44,
   "metadata": {},
   "outputs": [
    {
     "name": "stdout",
     "output_type": "stream",
     "text": [
      "Micro Precision: 0.81\n",
      "Micro Recall: 0.81\n",
      "Micro F1-score: 0.81\n",
      "\n"
     ]
    }
   ],
   "source": [
    "print('Micro Precision: {:.2f}'.format(precision_score(test_y, y_preds, average='micro')))\n",
    "print('Micro Recall: {:.2f}'.format(recall_score(test_y, y_preds, average='micro')))\n",
    "print('Micro F1-score: {:.2f}\\n'.format(f1_score(test_y, y_preds, average='micro')))"
   ]
  }
 ],
 "metadata": {
  "kernelspec": {
   "display_name": "Python 3",
   "language": "python",
   "name": "python3"
  },
  "language_info": {
   "codemirror_mode": {
    "name": "ipython",
    "version": 3
   },
   "file_extension": ".py",
   "mimetype": "text/x-python",
   "name": "python",
   "nbconvert_exporter": "python",
   "pygments_lexer": "ipython3",
   "version": "3.8.3"
  }
 },
 "nbformat": 4,
 "nbformat_minor": 4
}
